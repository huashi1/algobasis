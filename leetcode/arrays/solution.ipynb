{
 "cells": [
  {
   "cell_type": "markdown",
   "metadata": {},
   "source": [
    "#### leetcode arrays puzzle"
   ]
  },
  {
   "cell_type": "code",
   "execution_count": 26,
   "metadata": {},
   "outputs": [],
   "source": [
    "from __future__ import print_function"
   ]
  },
  {
   "cell_type": "code",
   "execution_count": 23,
   "metadata": {},
   "outputs": [],
   "source": [
    "# 566.Reshape Matrix (Easy)\n",
    "# input: [[1,2], [3,4]] 1 4\n",
    "# output: [1,2,3,4]\n",
    "\n",
    "# brute force\n",
    "import numpy as np\n",
    "import itertools\n",
    "\n",
    "class Solution():\n",
    "    # init\n",
    "    def __init__(self, d, r, c):\n",
    "        self.d = d\n",
    "        self.r = r\n",
    "        self.c = c\n",
    "    # brute force\n",
    "    def matrixReshape_1(self):\n",
    "        \n",
    "        size = len(self.d) * len(self.d[0])\n",
    "        if size != self.r * self.c:\n",
    "            return self.d\n",
    "        else:\n",
    "            flats = [item for sublist in self.d for item in sublist]\n",
    "            new_list = []\n",
    "            for r in range(self.r):\n",
    "                new_list.append(flats[r*self.c:(r+1)*self.c])\n",
    "            return new_list\n",
    "    \n",
    "    # numpy.reshape\n",
    "    def matrixReshape_2(self):\n",
    "        try:\n",
    "            return np.reshape(self.d, (self.r, self.c)).tolist()\n",
    "        except:\n",
    "            return self.d\n",
    "    \n",
    "    # itertools\n",
    "    def matrixReshape_3(self):\n",
    "        if self.r * self.c != len(self.d) * len(self.d[0]):\n",
    "            return self.d\n",
    "        it = itertools.chain(*self.d)\n",
    "        return [list(itertools.islice(it, self.c)) for _ in xrange(self.r)]\n",
    "'''\n",
    "solution 2&3 source: https://discuss.leetcode.com/topic/87899/python-solutions\n",
    "'''"
   ]
  },
  {
   "cell_type": "code",
   "execution_count": 27,
   "metadata": {},
   "outputs": [
    {
     "name": "stdout",
     "output_type": "stream",
     "text": [
      "[[1, 2, 3, 4]]\n",
      "[[1, 2, 3, 4]]\n",
      "[[1, 2, 3, 4]]\n"
     ]
    }
   ],
   "source": [
    "s = Solution([[1,2],[3,4]],1,4)\n",
    "print(s.matrixReshape_1())\n",
    "print(s.matrixReshape_2())\n",
    "print(s.matrixReshape_3())"
   ]
  },
  {
   "cell_type": "code",
   "execution_count": 28,
   "metadata": {},
   "outputs": [],
   "source": [
    "# 26.Remove Duplicates from Sorted Array\n",
    "# input: [1,1,2]\n",
    "# output: 2\n",
    "# info: have to modify the original list, instead of using extra space\n",
    "\n",
    "class Solution:\n",
    "    # @param a list of integers\n",
    "    # @return an integer\n",
    "    def removeDuplicates(self, A):\n",
    "        if not A:\n",
    "            return 0\n",
    "\n",
    "        newTail = 0\n",
    "\n",
    "        for i in range(1, len(A)):\n",
    "            if A[i] != A[newTail]:\n",
    "                newTail += 1\n",
    "                A[newTail] = A[i]\n",
    "\n",
    "        return newTail + 1"
   ]
  },
  {
   "cell_type": "code",
   "execution_count": 29,
   "metadata": {},
   "outputs": [
    {
     "data": {
      "text/plain": [
       "2"
      ]
     },
     "execution_count": 29,
     "metadata": {},
     "output_type": "execute_result"
    }
   ],
   "source": [
    "s = Solution()\n",
    "s.removeDuplicates([1,1,2])"
   ]
  },
  {
   "cell_type": "code",
   "execution_count": 40,
   "metadata": {},
   "outputs": [],
   "source": [
    "# 4.Median of Two Sorted Arrays\n",
    "# input: [2, 3, 7, 13], [5, 6, 12, 14, 17]\n",
    "# output: 7\n",
    "# info: O(log(m + n))\n",
    "\n",
    "import numpy \n",
    "\n",
    "class Solution():\n",
    "    def __init__(self, d1, d2):\n",
    "        self.d1 = d1\n",
    "        self.d2 = d2\n",
    "        \n",
    "    # sorted method        \n",
    "    # O((m+n)log(m+n))\n",
    "    def _sorted(self):\n",
    "        return np.median(sorted(self.d1 + self.d2))\n",
    "    \n",
    "    # O(log(m+n))\n",
    "    def median(self):\n",
    "        A, B = self.d1, self.d2\n",
    "        m, n = len(A), len(B)\n",
    "        if m > n:\n",
    "            A, B, m, n = B, A, n, m\n",
    "        if n == 0:\n",
    "            raise ValueError\n",
    "            \n",
    "        imin, imax, half_len = 0, m, (m + n + 1) / 2\n",
    "        while imin <= imax:\n",
    "            i = (imin + imax) / 2\n",
    "            j = half_len - i\n",
    "            if i < m and B[j-1] > A[i]:\n",
    "                # i is too small, must increase it\n",
    "                imin = i + 1\n",
    "            elif i > 0 and A[i-1] > B[j]:\n",
    "                # i is too big, must decrease it\n",
    "                imax = i - 1\n",
    "            else:\n",
    "                # i is perfect\n",
    "                if i == 0: max_of_left = B[j-1]\n",
    "                elif j == 0: max_of_left = A[i-1]\n",
    "                else: max_of_left = max(A[i-1], B[j-1])\n",
    "                \n",
    "                if (m + n) % 2 == 1:\n",
    "                    return max_of_left\n",
    "                \n",
    "                if i == m: min_of_right = B[j]\n",
    "                elif j == n: min_of_right = A[i]\n",
    "                else: min_of_right = min(A[i], B[j])\n",
    "                \n",
    "                return (max_of_left + min_of_right) / 2.0\n",
    "                           \n",
    "    # O(log(m+n))    \n",
    "    # find the kth smallest in new list\n",
    "    # return median when k is half of length \n",
    "    \n",
    "    def findMedianSortedArrays(self):\n",
    "        l = len(self.d1 + self.d2)\n",
    "        if l % 2 == 1:\n",
    "            return self.kth(l // 2)\n",
    "        else:\n",
    "            return (self.kth(l // 2) + self.kth(l // 2 - 1)) / 2\n",
    "    \n",
    "    def kth(self, k):\n",
    "        A, B = self.d1, self.d2\n",
    "        print(\"Splitting\", A, B)\n",
    "        if not A:\n",
    "            return B[k]\n",
    "        if not B:\n",
    "            return A[k]\n",
    "        ia, ib = len(A) // 2, len(B) // 2\n",
    "        ma, mb = A[ia], B[ib]\n",
    "        print(ia, ib)\n",
    "        print(ma, mb)\n",
    "        # when k is bigger than the sum of A and B's median indices\n",
    "        if ia + ib < k:\n",
    "            # if A'median is bigger than B's, B's first half doesn't include k\n",
    "            if ma > mb:\n",
    "                self.d1 = A\n",
    "                self.d2 = B[ib + 1:]\n",
    "                return self.kth(k - ib - 1)\n",
    "            else:\n",
    "                self.d1 = A[ia + 1:]\n",
    "                self.d2 = B\n",
    "                return self.kth(k - ia - 1)\n",
    "        # when k is smaller than the sum of A and B's indices\n",
    "        else:\n",
    "            # if A'median is bigger than B's, A's second half doesn't include k\n",
    "            if ma > mb:\n",
    "                self.d1 = A[:ia]\n",
    "                self.d2 = B\n",
    "                return self.kth(k)\n",
    "            else:\n",
    "                self.d1 = A\n",
    "                self.d2 = B[:ib]\n",
    "                return self.kth(k)\n",
    "        "
   ]
  },
  {
   "cell_type": "code",
   "execution_count": 49,
   "metadata": {},
   "outputs": [
    {
     "name": "stdout",
     "output_type": "stream",
     "text": [
      "1.brute\n",
      "7.0\n",
      "\n",
      "2.median\n",
      "7\n",
      "\n",
      "3.find kth smallest\n",
      "Splitting [2, 3, 7, 13] [5, 6, 12, 14, 17]\n",
      "2 2\n",
      "7 12\n",
      "Splitting [2, 3, 7, 13] [5, 6]\n",
      "2 1\n",
      "7 6\n",
      "Splitting [2, 3, 7, 13] []\n",
      "7\n"
     ]
    }
   ],
   "source": [
    "s = Solution([2,3,7,13], [5,6,12,14,17])\n",
    "\n",
    "print(\"1.brute\\n\"+str(s._sorted())+'\\n')\n",
    "print(\"2.median\\n\"+str(s.median())+'\\n')\n",
    "print(\"3.find kth smallest\")\n",
    "print(s.findMedianSortedArrays())"
   ]
  }
 ],
 "metadata": {
  "kernelspec": {
   "display_name": "Python 2",
   "language": "python",
   "name": "python2"
  },
  "language_info": {
   "codemirror_mode": {
    "name": "ipython",
    "version": 2
   },
   "file_extension": ".py",
   "mimetype": "text/x-python",
   "name": "python",
   "nbconvert_exporter": "python",
   "pygments_lexer": "ipython2",
   "version": "2.7.13"
  }
 },
 "nbformat": 4,
 "nbformat_minor": 2
}
