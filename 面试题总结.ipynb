{
 "cells": [
  {
   "cell_type": "markdown",
   "metadata": {},
   "source": [
    "Deep Leaper\n",
    "1. 给定一个数，检查是否可由数组中的两个数相加而成(hash)\n",
    "2. 给定一道判断题，甲做对一个题的概率是95%,乙做对一道题的概率是90%，现有一道题两人都判断为正，问该题为正的概率是多少\n",
    "3. 树模型对数据源的要求\n",
    "4. 线性回归中的正则项，L1和L2的区别，为什么如此设计\n",
    "5. 模型聚合的方法\n",
    "6. AUC, ROC\n",
    "7. 不平衡数据集的处理方法"
   ]
  },
  {
   "cell_type": "markdown",
   "metadata": {},
   "source": [
    "多牛媒体\n",
    "1. 对图像的预处理与增强\n",
    "2. cross-entropy， 以及SVM和Softmax的区别， Softmax与Logistic regression的区别\n",
    "3. 什么是堆树\n",
    "4. 矩阵的秩\n",
    "5. 特征值与特征向量\n",
    "6. 快速排序\n",
    "7. 如何处理深度神经网络的过拟合\n",
    "8. 熟悉哪些推荐算法"
   ]
  },
  {
   "cell_type": "markdown",
   "metadata": {},
   "source": [
    "\n",
    "恒昌利通\n",
    "1. 如何构造语音识别的特征\n",
    "2. 如何增加数据源，进行降噪"
   ]
  },
  {
   "cell_type": "markdown",
   "metadata": {},
   "source": [
    "创新工场\n",
    "1. 二位数组，横纵递增，如何找到给定k值\n",
    "2. 牛顿法求2的开放\n",
    "3. 了解哪些推荐算法"
   ]
  },
  {
   "cell_type": "markdown",
   "metadata": {},
   "source": [
    "Boss直聘\n",
    "1. SVM推倒\n",
    "2. 设计埋点，有哪些用户信息可以用来构造特征\n",
    "3. 一个用户的期望薪资是10000-20000，有两个商家，Boss-a的薪资范围是10000-15000， Boss-b的薪资范围是18000-22000，把用户推荐给哪个Boss\n",
    "4. 如何召回流失用户，有哪些措施"
   ]
  },
  {
   "cell_type": "markdown",
   "metadata": {},
   "source": [
    "混沌研习社\n",
    "1. SVM推导\n",
    "2. 冒泡排序\n",
    "3. ID3与C4.5的区别\n",
    "4. 单链表倒置"
   ]
  }
 ],
 "metadata": {
  "kernelspec": {
   "display_name": "Python 2",
   "language": "python",
   "name": "python2"
  },
  "language_info": {
   "codemirror_mode": {
    "name": "ipython",
    "version": 2
   },
   "file_extension": ".py",
   "mimetype": "text/x-python",
   "name": "python",
   "nbconvert_exporter": "python",
   "pygments_lexer": "ipython2",
   "version": "2.7.13"
  }
 },
 "nbformat": 4,
 "nbformat_minor": 2
}
