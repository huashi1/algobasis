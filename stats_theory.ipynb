{
 "cells": [
  {
   "cell_type": "markdown",
   "metadata": {},
   "source": [
    "- Null hypothesis(H0) is a statement about the population & sample data used to decide whether to reject that statement of not. Typically the statement is that there is no difference between groups or association between variables.\n",
    "\n",
    "\n",
    "- Alterntive hypotheiss(H1) is often the research question and varies depending on whether the test is one or two tailed\n",
    "\n",
    "\n",
    "- Significance level: the probability of rejecting the null hypothesis when it is tru, (also known as type 1 error). This is decided by the individual but is normally set at 5%(0.05) which means that there is a 1 in 20 chance of rejecting the null hypothesis when it is true.\n",
    "\n",
    "\n",
    "- Test statistic is a value calculated from a sample to decide whether to accept or reject the null(H0) and varies between tests. The test statistic compares differences between the samples or between observed and expected values when the null hypothesis is true.\n",
    "\n",
    "\n",
    "- P-value: the probability of obataining a test statistic at least as extreme as ours if the null is true and there really is no difference or association in the population of interest. P-values are calculated using different probability distributions depending on the test. A significant result is when the p-value is less than the chosen level of significance(usually 0.05)."
   ]
  },
  {
   "cell_type": "code",
   "execution_count": null,
   "metadata": {
    "collapsed": true
   },
   "outputs": [],
   "source": [
    "\n"
   ]
  }
 ],
 "metadata": {
  "kernelspec": {
   "display_name": "R",
   "language": "R",
   "name": "ir"
  },
  "language_info": {
   "codemirror_mode": "r",
   "file_extension": ".r",
   "mimetype": "text/x-r-source",
   "name": "R",
   "pygments_lexer": "r",
   "version": "3.3.2"
  }
 },
 "nbformat": 4,
 "nbformat_minor": 2
}
