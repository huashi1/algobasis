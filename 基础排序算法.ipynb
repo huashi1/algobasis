{
 "cells": [
  {
   "cell_type": "markdown",
   "metadata": {},
   "source": [
    "# 排序基础算法与搜索\n",
    "\n",
    "***"
   ]
  },
  {
   "cell_type": "markdown",
   "metadata": {},
   "source": [
    "### 冒泡排序  \n",
    "时间复杂度: $O(n^2)$\n",
    "\n",
    "空间复杂度: 1\n",
    "\n",
    "稳定度: 稳定\n",
    "\n",
    "Bubble sort is a simple algorithm. This sorting algorithm is comparison-based algorithm in which each pair of adjacent elements is compared and the elements are swapped if they are not in order. This algorithm is not suitable for large data sets as its average and worst case complexity are of $O(n^2)$ where n is the number of items."
   ]
  },
  {
   "cell_type": "code",
   "execution_count": 31,
   "metadata": {},
   "outputs": [
    {
     "data": {
      "text/plain": [
       "[6, 10, 14, 24, 27, 33, 35]"
      ]
     },
     "execution_count": 31,
     "metadata": {},
     "output_type": "execute_result"
    }
   ],
   "source": [
    "test_sets = [14, 33, 27, 35, 10, 24, 6]\n",
    "def BubbleSort(lists):\n",
    "    for i in range(len(lists)-1,0,-1):\n",
    "        for j in range(i):\n",
    "            if lists[j] > lists[j+1]:\n",
    "                temp = lists[j]\n",
    "                lists[j] = lists[j+1]\n",
    "                lists[j+1] = temp\n",
    "    return lists\n",
    "BubbleSort(test_sets)"
   ]
  },
  {
   "cell_type": "code",
   "execution_count": 32,
   "metadata": {},
   "outputs": [
    {
     "data": {
      "text/plain": [
       "[6, 10, 14, 24, 27, 33, 35]"
      ]
     },
     "execution_count": 32,
     "metadata": {},
     "output_type": "execute_result"
    }
   ],
   "source": [
    "test_sets = [14, 33, 27, 35, 10, 24, 6]\n",
    "def shortBubbleSort(lists):\n",
    "    exchanges = True\n",
    "    passnum = len(lists) - 1\n",
    "    while passnum > 0 and exchanges:\n",
    "        exchanges = False\n",
    "        for i in range(passnum):\n",
    "            if lists[i] > lists[i+1]:\n",
    "                exchanges = True\n",
    "                tmp = lists[i]\n",
    "                lists[i] = lists[i+1]\n",
    "                lists[i+1] = tmp\n",
    "        passnum -= 1\n",
    "    return lists\n",
    "shortBubbleSort(test_sets)"
   ]
  },
  {
   "cell_type": "markdown",
   "metadata": {},
   "source": [
    "***\n",
    "### 快速排序\n",
    "\n",
    "时间复杂度: $O(nlogn)$\n",
    "\n",
    "空间复杂度: $O(log_2n) - O(n)$\n",
    "\n",
    "稳定度: 不稳定"
   ]
  },
  {
   "cell_type": "markdown",
   "metadata": {},
   "source": [
    "A quick sort first selects a value, which is called the pivot value. Although there are many different ways to choose the pivot value, we will simply use the first item in the list. The role of the pivot value is to assist with splitting the list. The actual position where the pivot value belongs in the final sorted list, commonly called the split point, will be used to divide the list for subsequent calls to the quick sort.\n",
    "\n",
    "Begin by incrementing ``leftmark`` until locating a value that is greater than the pivot value. Then decrement ``rightmark`` until we find a value that is less than the pivot value. At this point we have discovered two items that are out of place with respect to the eventual split point.\n",
    "\n",
    "At the point where ``rightmark`` becomes less than ``leftmark``, we stop. The position of ``rightmark`` is now the split point. The pivot value can be exchanged with the contents of the split point and the pivot value is now in place. In addition, all the items to the left of the split point are less than the pivot value, and all the items to the right of the split point are greater than the pivot value. The list can now be divided at the split point and the quick sort can be invoked recursively on the two halves.\n",
    "\n",
    "``quickSort`` function begins with the same base as the merge sort. If the length of the list is less than or equal to one, it is already sorted. If it is greater, then it can be partitioned and recursively sorted. The ``partition`` function implements the process described earlier."
   ]
  },
  {
   "cell_type": "code",
   "execution_count": 11,
   "metadata": {
    "collapsed": true
   },
   "outputs": [],
   "source": [
    "test_sets = [54, 26, 93, 17, 77, 31, 44, 55, 20]\n",
    "def partition(lists, first, last):\n",
    "    pivot_value = lists[first]\n",
    "    \n",
    "    leftmark = first + 1\n",
    "    rightmark = last\n",
    "    done = False\n",
    "    \n",
    "    while not done:\n",
    "        \n",
    "        while leftmark <= rightmark and lists[leftmark] <= pivot_value:\n",
    "            leftmark += 1\n",
    "        \n",
    "        while rightmark >= leftmark and lists[rightmark] >= pivot_value:\n",
    "            rightmark -= 1\n",
    "        \n",
    "        if leftmark > rightmark:\n",
    "            done = True\n",
    "        else:\n",
    "            temp = lists[leftmark]\n",
    "            lists[leftmark] = lists[rightmark]\n",
    "            lists[rightmark] = temp\n",
    "    \n",
    "    tmp = lists[first]\n",
    "    lists[first] = lists[rightmark]\n",
    "    lists[rightmark] = tmp\n",
    "    \n",
    "    return rightmark\n",
    "\n",
    "def quickSort(lists):\n",
    "    quickSortHelper(lists, 0, len(lists)-1)\n",
    "\n",
    "def quickSortHelper(lists, first, last):\n",
    "    if first < last:\n",
    "        splitpoint = partition(lists, first, last)\n",
    "        quickSortHelper(lists, first, splitpoint - 1)\n",
    "        quickSortHelper(lists, splitpoint + 1, last)"
   ]
  },
  {
   "cell_type": "code",
   "execution_count": 12,
   "metadata": {},
   "outputs": [
    {
     "data": {
      "text/plain": [
       "[17, 20, 26, 31, 44, 54, 55, 77, 93]"
      ]
     },
     "execution_count": 12,
     "metadata": {},
     "output_type": "execute_result"
    }
   ],
   "source": [
    "quickSort(test_sets)\n",
    "test_sets"
   ]
  },
  {
   "cell_type": "markdown",
   "metadata": {},
   "source": [
    "If the partition always occurs in the middle of the list, there will again be $log n $ divisions. In order to find the split point, each of the n items needs to be checked against the pivot value. The result is $nlogn$. In addition, there is no need for additional memory as in the merge sort process.\n",
    "\n",
    "Unfortunately, in the worst case, the split points may not be in the middle and can be very skewed to the left or the right, leaving a very uneven division. In this case, sorting a list of $n$ items divides into sorting a list of 0 items and a list of $n - 1$ items. Then sorting a list of $n - 1$ divides into a list of size 0 and a list 0f size $n - 2$, and so on. The result is an $O(n^2)$ sort with all of the overhead that recursion requires."
   ]
  },
  {
   "cell_type": "markdown",
   "metadata": {},
   "source": [
    "***\n",
    "### 归并排序\n",
    "\n",
    "时间复杂度 $O(nlogn)$\n",
    "\n",
    "空间复杂度\n",
    "\n",
    "稳定性\n"
   ]
  },
  {
   "cell_type": "markdown",
   "metadata": {},
   "source": [
    "The merge sort is a divide and conquer strategy which can improve the performance of sorting algorithms. As a recursive algorithm, it continually splits a list in half. If the list is empty or has one item, it is sorted by definition(the base case). If the list has more than one item, we split the list and recurvisely invoke a merge sort on both halves. Once the two halves are sorted, the fundamental operation, called a merge, is performed. Mergeing is the process of taking two smaller sorted lists and combining them together into a single, sorted, new list."
   ]
  },
  {
   "cell_type": "code",
   "execution_count": 54,
   "metadata": {},
   "outputs": [
    {
     "name": "stdout",
     "output_type": "stream",
     "text": [
      "('Splitting ', [54, 26, 93, 17, 77, 31, 44, 55, 20])\n",
      "('Splitting ', [54, 26, 93, 17])\n",
      "('Splitting ', [54, 26])\n",
      "('Splitting ', [54])\n",
      "('Merging ', [54])\n",
      "('Splitting ', [26])\n",
      "('Merging ', [26])\n",
      "('Merging ', [26, 54])\n",
      "('Splitting ', [93, 17])\n",
      "('Splitting ', [93])\n",
      "('Merging ', [93])\n",
      "('Splitting ', [17])\n",
      "('Merging ', [17])\n",
      "('Merging ', [17, 93])\n",
      "('Merging ', [17, 26, 54, 93])\n",
      "('Splitting ', [77, 31, 44, 55, 20])\n",
      "('Splitting ', [77, 31])\n",
      "('Splitting ', [77])\n",
      "('Merging ', [77])\n",
      "('Splitting ', [31])\n",
      "('Merging ', [31])\n",
      "('Merging ', [31, 77])\n",
      "('Splitting ', [44, 55, 20])\n",
      "('Splitting ', [44])\n",
      "('Merging ', [44])\n",
      "('Splitting ', [55, 20])\n",
      "('Splitting ', [55])\n",
      "('Merging ', [55])\n",
      "('Splitting ', [20])\n",
      "('Merging ', [20])\n",
      "('Merging ', [20, 55])\n",
      "('Merging ', [20, 44, 55])\n",
      "('Merging ', [20, 31, 44, 55, 77])\n",
      "('Merging ', [17, 20, 26, 31, 44, 54, 55, 77, 93])\n"
     ]
    }
   ],
   "source": [
    "test_sets = [54, 26, 93, 17, 77, 31, 44, 55, 20]\n",
    "def mergeSort(lists):\n",
    "    print('Splitting ', lists)\n",
    "    if len(lists) > 1:\n",
    "        mid = len(lists) // 2\n",
    "        \n",
    "        lefthalf = lists[0:mid]\n",
    "        righthalf = lists[mid:]\n",
    "        \n",
    "        mergeSort(lefthalf)\n",
    "        mergeSort(righthalf)\n",
    "        \n",
    "        i = 0 \n",
    "        j = 0\n",
    "        k = 0\n",
    "        \n",
    "        while i < len(lefthalf) and j < len(righthalf):\n",
    "            if lefthalf[i] < righthalf[j]:\n",
    "                lists[k] = lefthalf[i]\n",
    "                i += 1\n",
    "            else:\n",
    "                lists[k] = righthalf[j]\n",
    "                j += 1\n",
    "            k += 1\n",
    "        \n",
    "        while i < len(lefthalf):\n",
    "            lists[k] = lefthalf[i]\n",
    "            i += 1\n",
    "            k += 1\n",
    "        \n",
    "        while j < len(righthalf):\n",
    "            lists[k] = righthalf[j]\n",
    "            j += 1\n",
    "            k += 1\n",
    "            \n",
    "    print('Merging ', lists)\n",
    "mergeSort(test_sets)"
   ]
  },
  {
   "cell_type": "markdown",
   "metadata": {},
   "source": [
    "Analyze the function processes. First, the list is split into halves, we already computed that we can divide a list in half log n times where n is the length of the list. The second process is the merge. Each item in the list will eventually be processes and placed on the sorted list. So the merge operation which results in a list of size n requires n operations. The result sort is an $O(nlogn)$ algorithm.\n"
   ]
  },
  {
   "cell_type": "markdown",
   "metadata": {},
   "source": [
    "***\n",
    "### 选择排序\n",
    "\n",
    "时间复杂度 $O(n^2)$\n",
    "\n",
    "空间复杂度 \n",
    "\n",
    "稳定性"
   ]
  },
  {
   "cell_type": "code",
   "execution_count": 17,
   "metadata": {},
   "outputs": [
    {
     "data": {
      "text/plain": [
       "[17, 20, 26, 31, 44, 54, 55, 77, 93]"
      ]
     },
     "execution_count": 17,
     "metadata": {},
     "output_type": "execute_result"
    }
   ],
   "source": [
    "test_sets = [54, 26, 93, 17, 77, 31, 44, 55, 20]\n",
    "def selectionSort(lists):\n",
    "    for fillslot in range(len(lists)-1, 0, -1):\n",
    "        positionOfMax = 0\n",
    "        for location in range(1, fillslot + 1):\n",
    "            if lists[location] > lists[positionOfMax]:\n",
    "                positionOfMax = location\n",
    "        \n",
    "        temp = lists[fillslot]\n",
    "        lists[fillslot] = lists[positionOfMax]\n",
    "        lists[positionOfMax] = temp\n",
    "        \n",
    "selectionSort(test_sets)\n",
    "test_sets"
   ]
  },
  {
   "cell_type": "markdown",
   "metadata": {},
   "source": [
    "A selection sort looks for the largest value as it makes a pass and, after completing the pass, places it in the proper location. As with a bubble sort, after the first pass, the largest item is in the correct place. After the second pass, the next largest is in place. This process continues and requires $n - 1$ passes to sort n items, since the final item must be in place after the $(n-1)$ st pass.\n",
    "\n",
    "Selection sort makes the same number of comparisons as the the bubble sort and is therefore also $O(n^2)$. However, due to the reduction in the number of exchange, the selection sort typically executes faster in benchmark studies."
   ]
  },
  {
   "cell_type": "markdown",
   "metadata": {},
   "source": [
    "***\n",
    "### 插入排序 \n",
    "\n",
    "时间复杂度 $O(n^2)$\n",
    "\n",
    "空间复杂度\n",
    "\n",
    "稳定性\n"
   ]
  },
  {
   "cell_type": "markdown",
   "metadata": {},
   "source": [
    "The insertion sort maintains a sorted sublist in the lower positions of the list. Each new item is then \"inserted\" back into the previous sublist such that the sorted sublist is one item larger."
   ]
  },
  {
   "cell_type": "code",
   "execution_count": 19,
   "metadata": {},
   "outputs": [
    {
     "data": {
      "text/plain": [
       "[17, 20, 26, 31, 44, 54, 55, 77, 93]"
      ]
     },
     "execution_count": 19,
     "metadata": {},
     "output_type": "execute_result"
    }
   ],
   "source": [
    "test_sets = [54, 26, 93, 17, 77, 31, 44, 55, 20]\n",
    "def insertionSort(lists):\n",
    "    for index in range(1, len(lists)):\n",
    "        \n",
    "        currentvalue = lists[index]\n",
    "        position = index\n",
    "        \n",
    "        while position > 0 and lists[position-1] > currentvalue:\n",
    "            lists[position] = lists[position-1]\n",
    "            position = position - 1\n",
    "        \n",
    "        lists[position] = currentvalue\n",
    "insertionSort(test_sets)\n",
    "test_sets"
   ]
  },
  {
   "cell_type": "markdown",
   "metadata": {},
   "source": [
    "***\n",
    "### 希尔排序\n",
    "\n",
    "时间复杂度 between $O(n)$ and $O(n^2)$\n",
    "\n",
    "空间复杂度\n",
    "\n",
    "稳定性"
   ]
  },
  {
   "cell_type": "markdown",
   "metadata": {},
   "source": [
    "The shell sort, sometimes called the \"diminishing increment sort,\" improves on the insertion sort by breaking the original list into a number of smaller sublists, each of which is sorted using an insertion sort. The unique way that these sublists are chosen is the key to the shell sort. Instead of breaking the list into sublists of contiguous items, the shell sort uses an increment $i$, sometimes called the gap, to create a sublist by choosing all items that are $i$ items apart."
   ]
  },
  {
   "cell_type": "code",
   "execution_count": 22,
   "metadata": {},
   "outputs": [
    {
     "name": "stdout",
     "output_type": "stream",
     "text": [
      "('After incremtns of size', 4, 'The list is', [20, 26, 44, 17, 54, 31, 93, 55, 77])\n",
      "('After incremtns of size', 2, 'The list is', [20, 17, 44, 26, 54, 31, 77, 55, 93])\n",
      "('After incremtns of size', 1, 'The list is', [17, 20, 26, 31, 44, 54, 55, 77, 93])\n"
     ]
    },
    {
     "data": {
      "text/plain": [
       "[17, 20, 26, 31, 44, 54, 55, 77, 93]"
      ]
     },
     "execution_count": 22,
     "metadata": {},
     "output_type": "execute_result"
    }
   ],
   "source": [
    "test_sets = [54, 26, 93, 17, 77, 31, 44, 55, 20]\n",
    "def gapInsertionSort(lists, start, gap):\n",
    "    for i in range(start+gap, len(lists), gap):\n",
    "        \n",
    "        currentvalue = lists[i]\n",
    "        position = i \n",
    "        \n",
    "        while position >= gap and lists[position-gap] > currentvalue:\n",
    "            lists[position] = lists[position-gap]\n",
    "            position = position -gap\n",
    "        \n",
    "        lists[position] = currentvalue        \n",
    "\n",
    "def shellSort(lists):\n",
    "    sublistcount = len(lists) // 2\n",
    "    while sublistcount > 0:\n",
    "        \n",
    "        for startposition in range(sublistcount):\n",
    "            gapInsertionSort(lists, startposition, sublistcount)\n",
    "        \n",
    "        print(\"After incremtns of size\", sublistcount, \"The list is\", lists)\n",
    "        \n",
    "        sublistcount = sublistcount // 2\n",
    "shellSort(test_sets)\n",
    "test_sets"
   ]
  },
  {
   "cell_type": "code",
   "execution_count": 30,
   "metadata": {},
   "outputs": [
    {
     "name": "stdout",
     "output_type": "stream",
     "text": [
      "('After increments of size', 4, 'The list is', [20, 26, 44, 17, 54, 31, 93, 55, 77])\n",
      "('After increments of size', 2, 'The list is', [20, 17, 44, 26, 54, 31, 77, 55, 93])\n",
      "('After increments of size', 1, 'The list is', [17, 20, 26, 31, 44, 54, 55, 77, 93])\n"
     ]
    },
    {
     "data": {
      "text/plain": [
       "[17, 20, 26, 31, 44, 54, 55, 77, 93]"
      ]
     },
     "execution_count": 30,
     "metadata": {},
     "output_type": "execute_result"
    }
   ],
   "source": [
    "test_sets = [54, 26, 93, 17, 77, 31, 44, 55, 20]\n",
    "def shellSort(lists):\n",
    "    sublistcount = len(lists) // 2\n",
    "    while sublistcount > 0:\n",
    "        \n",
    "        for startposition in range(sublistcount):\n",
    "            gapInsertionSort(lists, startposition, sublistcount)\n",
    "        \n",
    "        print(\"After increments of size\", sublistcount, \"The list is\", lists)\n",
    "        \n",
    "        sublistcount = sublistcount // 2\n",
    "\n",
    "    \n",
    "def gapInsertionSort(lists, start, gap):\n",
    "    for i in range(start+gap, len(lists), gap):\n",
    "        currentvalue = lists[i]\n",
    "        position = i\n",
    "        \n",
    "        while position >= gap and lists[position-gap] > currentvalue:\n",
    "            lists[position] = lists[position-gap]\n",
    "            position = position - gap\n",
    "        \n",
    "        lists[position] = currentvalue\n",
    "shellSort(test_sets)\n",
    "test_sets"
   ]
  },
  {
   "cell_type": "markdown",
   "metadata": {},
   "source": [
    "Although shell sort does a complete insertion sort in last step. It turns out, however, that this final insertion sort does not need to do very many comparisons(or shifts) since the list has been pre-sorted by earlier incremental insertion sorts, as described above. In other words, each pass produces a list that is \"more sorted\" than the previous one. This makes the final pass very efficient. It tends to fall somewhere between $O(n)$ and $O(n^2)$."
   ]
  },
  {
   "cell_type": "markdown",
   "metadata": {},
   "source": [
    "***\n",
    "### 顺序查找\n",
    "时间复杂度 $O(n)$"
   ]
  },
  {
   "cell_type": "markdown",
   "metadata": {},
   "source": [
    "When data items are stored in a collection such as a list, we say that have a linear or sequential relationship. Each data item is stored in a position relative to the others. In Python lists, these relative positions are the index values of the individual items. Since these index values are ordered, it is possible for us to visit them in sequence. This process gives rise to our first searching technique, the sequential search."
   ]
  },
  {
   "cell_type": "code",
   "execution_count": 36,
   "metadata": {},
   "outputs": [
    {
     "data": {
      "text/plain": [
       "True"
      ]
     },
     "execution_count": 36,
     "metadata": {},
     "output_type": "execute_result"
    }
   ],
   "source": [
    "test_sets = [1, 2, 32, 8, 17, 19, 42, 13, 0]\n",
    "def sequentialSearch(lists,item):\n",
    "    pos = 0\n",
    "    found = False\n",
    "    \n",
    "    while pos < len(lists) and not found:\n",
    "        if lists[pos] == item:\n",
    "            found = True\n",
    "        else:\n",
    "            pos += 1\n",
    "    return found\n",
    "sequentialSearch(test_sets, 13)"
   ]
  },
  {
   "cell_type": "code",
   "execution_count": 39,
   "metadata": {},
   "outputs": [
    {
     "data": {
      "text/plain": [
       "True"
      ]
     },
     "execution_count": 39,
     "metadata": {},
     "output_type": "execute_result"
    }
   ],
   "source": [
    "test_sets = [0, 1, 2, 8, 13, 17, 19, 32, 42]\n",
    "def orderedSequentialSearch(lists, item):\n",
    "    pos = 0 \n",
    "    found = False\n",
    "    stop = False\n",
    "    while pos < len(lists) and not found and not stop:\n",
    "        if lists[pos] == item:\n",
    "            found = True\n",
    "        else:\n",
    "            if lists[pos] > item:\n",
    "                stop = True\n",
    "            else:\n",
    "                pos += 1\n",
    "    \n",
    "    return found\n",
    "orderedSequentialSearch(test_sets, 13)"
   ]
  },
  {
   "cell_type": "markdown",
   "metadata": {},
   "source": [
    "***\n",
    "### 二分查找\n",
    "时间复杂度 $O(logn)$\n",
    "\n",
    "A binary search will start by examining the middle item. If that item is the one we are searching for, we are done. If it is not the correct item, we can use the ordered nature of the list to eliminate half of the remaining items. If the item we are searching for is greater than the middle item, we know that the entire lower half of the list as well as the middle item can be eliminated from further consideration. The item, if it is ins the list, must be in the upper half."
   ]
  },
  {
   "cell_type": "code",
   "execution_count": 2,
   "metadata": {},
   "outputs": [
    {
     "data": {
      "text/plain": [
       "True"
      ]
     },
     "execution_count": 2,
     "metadata": {},
     "output_type": "execute_result"
    }
   ],
   "source": [
    "test_sets = [0, 1, 2, 8, 13, 17, 19, 32, 42]\n",
    "def binarySearch(lists, item):\n",
    "    first = 0\n",
    "    last = len(lists) - 1\n",
    "    found = False\n",
    "    \n",
    "    while first <= last and not found:\n",
    "        midpoint = (first + last) // 2\n",
    "        if lists[midpoint] == item:\n",
    "            found = True\n",
    "        else:\n",
    "            if item < lists[midpoint]:\n",
    "                last = midpoint - 1\n",
    "            else:\n",
    "                first = midpoint + 1\n",
    "    return found\n",
    "binarySearch(test_sets, 32)"
   ]
  },
  {
   "cell_type": "markdown",
   "metadata": {},
   "source": [
    "When we split the list enough times, we end up with a list has just one item. Either that is the item we are looking for or it is not. Either way, we are done. The number of comparisons necessary to get to this point is $i where \\frac{n}{2^i} = 1$. Solving for i gives us $i = log n$."
   ]
  },
  {
   "cell_type": "markdown",
   "metadata": {},
   "source": [
    "***\n",
    "### Hashing\n",
    "If every item is where it should be, then the search can use a single comparison to discover the presence of an item. A hash table is a collection of items which are stored in such a way as to make it easy to find them later. Each position of the has table, often called a slot, can hold an item and is named by an integar value starting at 0. The first hash function, sometimes referred to as the \"remainder method,\" simply takes an item and divides it by the table size, returning the remainder as its hash value $(h(item) = item\\%(size(lists)))$.\n",
    "\n",
    "Noe when search for an item, we can simply use the hash function to compute the slot name for the item and then check the hash table to see if it is present. This searching operation is $O(1)$, since a constant amount of time is required to compute the hash value and the index the hash table at that location. The problem is when two or more items share one hash value, there will be a clash.\n",
    "\n",
    "Given a collection of items, a hash function that maps each item into a unique slot is referred to as a **perfect hash function**.\n",
    "\n",
    "One way to always have a perfect hash function is to increase the size of the hash table so that each possible value in the item range can be accommodated. This guarantees that each item will have a unique slot. Although this is practical for small numbers of items, it is not feasible when the number of possible items is large. For example, if the items were nine-digit Social Security numbers, this method would require almost one billion slots. If we only want to store data for a class of 25 students, we will be wasting an enormous amount of memory."
   ]
  },
  {
   "cell_type": "markdown",
   "metadata": {},
   "source": [
    "The important thing to remember is that the hash function has to be efficient so that it does not become the dominant part of the storage and search process. If the hash function is too complex, then it becomes more work to compute the slot name than it would be simply do a basic sequential or binary search as described earlier. This would quickly defeat the purpose of hashing.\n",
    "\n",
    "**Collision Resolution**\n",
    "One method for resolving collisions looks into the hash table and tries to find another open slot to hold the item that caused the collision. A simple way to do this is to start at the original hash value position and then move in a sequential manner through the slots until we encounter the first slot that is empty. Note that we may need to go back to the first slot (circularly) to cover the entire hash table. This collision resolution process is referred to as open addressing in that it tries to find the next open slot or address in the hash table. By systematically visiting each slot one at a time, we are performing an open addressing technique called linear probing."
   ]
  },
  {
   "cell_type": "code",
   "execution_count": null,
   "metadata": {
    "collapsed": true
   },
   "outputs": [],
   "source": []
  },
  {
   "cell_type": "markdown",
   "metadata": {},
   "source": [
    "***\n",
    "### Summary\n",
    "- A sequential search is $O(n)$ for ordered and unordered lists.\n",
    "- A binary search of an ordered list is $O(logn)$ in the worst case.\n",
    "- Hash tables can provide constant time searching.\n",
    "- A bubble sort, a selection sort, and an insertion sort are $O(n^2)$ algorithms.\n",
    "- A shell sort improves on the insertion sort by sorting incremental sublists. It falls between $O(n)$ and $O(n^2)$.\n",
    "- A merge sort is $O(nlogn)$, but requires additional space for the merging process.\n",
    "- A quick sort is $O(nlogn)$, but many degrade to $O(n^2)$ if the split points are not near the middle of the list. It does not require additional space."
   ]
  }
 ],
 "metadata": {
  "kernelspec": {
   "display_name": "Python 2",
   "language": "python",
   "name": "python2"
  },
  "language_info": {
   "codemirror_mode": {
    "name": "ipython",
    "version": 2
   },
   "file_extension": ".py",
   "mimetype": "text/x-python",
   "name": "python",
   "nbconvert_exporter": "python",
   "pygments_lexer": "ipython2",
   "version": "2.7.13"
  }
 },
 "nbformat": 4,
 "nbformat_minor": 2
}
